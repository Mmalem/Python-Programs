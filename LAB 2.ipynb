{
 "cells": [
  {
   "cell_type": "markdown",
   "metadata": {},
   "source": [
    "# Assignment 2"
   ]
  },
  {
   "cell_type": "code",
   "execution_count": 81,
   "metadata": {},
   "outputs": [
    {
     "name": "stdout",
     "output_type": "stream",
     "text": [
      "Hello! Welcome to python programming.\n",
      "\n",
      "A brief Introduction to python programming.\n",
      "\n",
      "Python is an interpreted, high-level and general-purpose programming language.\n",
      "\n",
      "Python's design philosophy emphasizes code readability with its notable use of significant indentation.\n",
      "\n",
      "Often, programmers fall in love with Python because of the increased productivity it provides.\n",
      "\n",
      "Since there is no compilation step, the edit-test-debug cycle is incredibly fast.\n"
     ]
    }
   ],
   "source": [
    "#1. Write a function in python to read the content from a text file line by line and display the same on screen\n",
    "file1 = open(\"file1.txt\")\n",
    "for line in file1.readlines():\n",
    "    print(line)"
   ]
  },
  {
   "cell_type": "code",
   "execution_count": 82,
   "metadata": {},
   "outputs": [
    {
     "name": "stdout",
     "output_type": "stream",
     "text": [
      "Total words in the file:  59\n"
     ]
    }
   ],
   "source": [
    "#2. Write a function in Python to count and display the total number of words in a text file.\n",
    "def countWord(file):\n",
    "    text = file.read()\n",
    "    word_count = text.count(' ') + text.count('\\n') + 1\n",
    "    return word_count\n",
    "\n",
    "file1 = open('file1.txt')\n",
    "print('Total words in the file: ', countWord(file1))"
   ]
  },
  {
   "cell_type": "code",
   "execution_count": 83,
   "metadata": {},
   "outputs": [
    {
     "name": "stdout",
     "output_type": "stream",
     "text": [
      "Hello! Welcome to python programming.\n",
      "\n",
      "A brief Introduction to python programming.\n",
      "\n",
      "Python is an interpreted, high-level and general-purpose programming language.\n",
      "\n",
      "Python's design philosophy emphasizes code readability with its notable use of significant indentation.\n",
      "\n",
      "Often, programmers fall in love with Python because of the increased productivity it provides.\n",
      "\n",
      "Since there is no compilation step, the edit-test-debug cycle is incredibly fast.\n",
      "\n",
      "Total occurence of the word \"Python\" is:  5\n"
     ]
    }
   ],
   "source": [
    "#3. Write a function in Python to read lines from a text file and \n",
    "#    function should find and display the occurrence of the word \"Python\".\n",
    "\n",
    "def display(file):\n",
    "    wcount = 0 \n",
    "    for line in file.readlines():\n",
    "        print(line)\n",
    "        if 'Python'.lower() in line.lower():\n",
    "            wcount += 1\n",
    "    \n",
    "    print('\\nTotal occurence of the word \"Python\" is: ', wcount)\n",
    "    \n",
    "    \n",
    "file1 = open(\"file1.txt\")\n",
    "display(file1)"
   ]
  },
  {
   "cell_type": "code",
   "execution_count": 84,
   "metadata": {},
   "outputs": [
    {
     "name": "stdout",
     "output_type": "stream",
     "text": [
      "Words in the file which are less than 4 character: \n",
      "to A to is an and its use of in of the it is no the is\n"
     ]
    }
   ],
   "source": [
    "#4. Write a function display_words() in python to read lines from a text file, and display those words, which are less than 4 characters.\n",
    "def display_words(file):\n",
    "    text = file.read()\n",
    "    newtext = ''\n",
    "    for word in text.split():\n",
    "        if len(word) < 4:\n",
    "            newtext += ' ' + word\n",
    "    print(newtext.strip())\n",
    "\n",
    "file1 = open('file1.txt')\n",
    "\n",
    "print('Words in the file which are less than 4 character: ')\n",
    "display_words(file1)\n",
    "file1.close()"
   ]
  },
  {
   "cell_type": "code",
   "execution_count": 85,
   "metadata": {},
   "outputs": [
    {
     "name": "stdout",
     "output_type": "stream",
     "text": [
      "Hello! Welcome to python programming.\n",
      "A brief Introduction to python programming.\n",
      "Python is an interpreted, high-level and general-purpose programming language.\n",
      "Python's design philosophy emphasizes code readability with its notable use of significant indentation.\n",
      "Often, programmers fall in love with Python because of the increased productivity it provides.\n",
      "Since there is no compilation step, the edit-test-debug cycle is incredibly fast.\n",
      "\n",
      "Total word count ending with \"e\":  12\n"
     ]
    }
   ],
   "source": [
    "#5. Write a function in Python to count words in a text file those are ending with alphabet \"e\".\n",
    "def count_words(file):\n",
    "    text = file.read()\n",
    "    print(text)\n",
    "    count = 0\n",
    "    for word in text.split():\n",
    "        if word[-1] == 'e':\n",
    "            count += 1\n",
    "    return count\n",
    "\n",
    "file1 = open('file1.txt')\n",
    "\n",
    "print('\\nTotal word count ending with \"e\": ', count_words(file1))"
   ]
  },
  {
   "cell_type": "code",
   "execution_count": 86,
   "metadata": {},
   "outputs": [
    {
     "name": "stdout",
     "output_type": "stream",
     "text": [
      "Student found having rollno 11\n",
      "Tom is a MCA student with roll number 11. Course fees: 70000\n"
     ]
    }
   ],
   "source": [
    "#6. Write a function to search and display details of student whose rollno is '11' \n",
    "#   from the binary file student.dat having structure [rollno, name, class and fees].\n",
    "import pickle\n",
    "\n",
    "data = [\n",
    "    {\n",
    "        'rollno' : 1,\n",
    "        'name' : 'Jack',\n",
    "        'class' : 'MCA',\n",
    "        'fees' : 70000\n",
    "    },\n",
    "    {\n",
    "        'rollno' : 17,\n",
    "        'name' : 'Muller',\n",
    "        'class' : 'MBA',\n",
    "        'fees' : 65000\n",
    "    },\n",
    "    {\n",
    "        'rollno' : 11,\n",
    "        'name' : 'Tom',\n",
    "        'class' : 'MCA',\n",
    "        'fees' : 70000\n",
    "    }\n",
    "]\n",
    "\n",
    "def createFile():\n",
    "    file = open('student.dat','wb')\n",
    "    pickle.dump(data, file)\n",
    "    file.close()\n",
    "\n",
    "def displayDetails(roll):\n",
    "    infile = open('student.dat', 'rb')\n",
    "    student_list = pickle.load(infile)\n",
    "    \n",
    "    for student in student_list:\n",
    "        if student['rollno'] == 11:\n",
    "            print('Student found having rollno 11')\n",
    "            print('{} is a {} student with roll number {}. Course fees: {}'.format(student['name'], student['class'],\\\n",
    "                                                                                   student['rollno'], student['fees']))\n",
    "#createFile()        \n",
    "displayDetails(11)"
   ]
  },
  {
   "cell_type": "code",
   "execution_count": 87,
   "metadata": {},
   "outputs": [
    {
     "name": "stdout",
     "output_type": "stream",
     "text": [
      "Student found having rollno 11\n",
      "Tom is a MCA student with roll number 11. Course fees: 70000\n"
     ]
    }
   ],
   "source": [
    "#7. Write a function to search and display details of student whose rollno is '11' \n",
    "#   from the binary file student.dat having structure [rollno, name, class and fees].\n",
    "\n",
    "data = [\n",
    "    {\n",
    "        'rollno' : 1,\n",
    "        'name' : 'Jack',\n",
    "        'class' : 'MCA',\n",
    "        'fees' : 70000\n",
    "    },\n",
    "    {\n",
    "        'rollno' : 17,\n",
    "        'name' : 'Muller',\n",
    "        'class' : 'MBA',\n",
    "        'fees' : 65000\n",
    "    },\n",
    "    {\n",
    "        'rollno' : 11,\n",
    "        'name' : 'Tom',\n",
    "        'class' : 'MCA',\n",
    "        'fees' : 70000\n",
    "    }\n",
    "]\n",
    "\n",
    "def createFile():\n",
    "    file = open('student.dat','wb')\n",
    "    pickle.dump(data, file)\n",
    "    file.close()\n",
    "\n",
    "def displayDetails(roll):\n",
    "    infile = open('student.dat', 'rb')\n",
    "    student_list = pickle.load(infile)\n",
    "    \n",
    "    for student in student_list:\n",
    "        if student['rollno'] == 11:\n",
    "            print('Student found having rollno 11')\n",
    "            print('{} is a {} student with roll number {}. Course fees: {}'.format(student['name'], student['class'],\\\n",
    "                                                                                   student['rollno'], student['fees']))\n",
    "#createFile()        \n",
    "displayDetails(11)"
   ]
  },
  {
   "cell_type": "code",
   "execution_count": 88,
   "metadata": {},
   "outputs": [
    {
     "name": "stdout",
     "output_type": "stream",
     "text": [
      "Line number 4 in the file:\n",
      "\n",
      "Python's design philosophy emphasizes code readability with its notable use of significant indentation.\n",
      "\n"
     ]
    }
   ],
   "source": [
    "#8. Write a program to read line number 4 from the following file Line1 Line2 Line3 Line4 Line5 Line6\n",
    "file = open('file1.txt','r')\n",
    "print('Line number 4 in the file:\\n')\n",
    "print(file.readlines()[3])\n",
    "#\"\"\"readlines() return a list of lines. So we can perform slicing and pick the specific line(s)\"\"\""
   ]
  },
  {
   "cell_type": "code",
   "execution_count": 93,
   "metadata": {},
   "outputs": [
    {
     "name": "stdout",
     "output_type": "stream",
     "text": [
      "Input folder name: C:\\Users\\admin\\desktop\\mca\n",
      "3 years MCA(Management) Rev syllabus.pdf\n",
      "M.C.A._EligibilityNO_rpt.xls\n",
      "MCA First Year Result (1st & 2nd Sem).pdf\n",
      "MCA_ Academic Calender 19_20.docx\n",
      "Reevaluation\n",
      "Related Documents\n",
      "SEM I\n",
      "SEM II\n",
      "SEM III\n",
      "SEM IV\n",
      "Speech.txt\n"
     ]
    }
   ],
   "source": [
    "#9. Write a program to accept the folder name from user and print the list of files and folders from the given folder.\n",
    "from os import listdir\n",
    "\n",
    "path = input('Input folder name: ')\n",
    "for file in listdir(path):\n",
    "    print(file)"
   ]
  },
  {
   "cell_type": "code",
   "execution_count": 97,
   "metadata": {},
   "outputs": [],
   "source": [
    "#10. Write a program to copy the content of .jpg file into another file.\n",
    "file = open(\"newimage.dat\", \"wb\")\n",
    "with open(\"img1.jpg\", \"rb\") as f:\n",
    "    while True:\n",
    "        byte = f.read(1)\n",
    "        if not byte:\n",
    "            break\n",
    "        file.write(byte)"
   ]
  },
  {
   "cell_type": "code",
   "execution_count": 98,
   "metadata": {},
   "outputs": [],
   "source": [
    "#from IPython.display import display\n",
    "from PIL import Image\n",
    "im = Image.open('newimage.dat')\n",
    "size = 128, 128\n",
    "im.thumbnail(size)"
   ]
  },
  {
   "cell_type": "code",
   "execution_count": 79,
   "metadata": {},
   "outputs": [
    {
     "data": {
      "image/png": "[encoded data removed]",
      "text/plain": [
       "<PIL.JpegImagePlugin.JpegImageFile image mode=RGB size=128x96 at 0xEE79F0>"
      ]
     },
     "metadata": {},
     "output_type": "display_data"
    }
   ],
   "source": [
    "#im.show()\n",
    "display(im)"
   ]
  },
  {
   "cell_type": "code",
   "execution_count": null,
   "metadata": {},
   "outputs": [],
   "source": []
  },
  {
   "cell_type": "code",
   "execution_count": null,
   "metadata": {},
   "outputs": [],
   "source": []
  },
  {
   "cell_type": "code",
   "execution_count": null,
   "metadata": {},
   "outputs": [],
   "source": []
  }
 ],
 "metadata": {
  "kernelspec": {
   "display_name": "Python 3",
   "language": "python",
   "name": "python3"
  },
  "language_info": {
   "codemirror_mode": {
    "name": "ipython",
    "version": 3
   },
   "file_extension": ".py",
   "mimetype": "text/x-python",
   "name": "python",
   "nbconvert_exporter": "python",
   "pygments_lexer": "ipython3",
   "version": "3.7.6"
  }
 },
 "nbformat": 4,
 "nbformat_minor": 4
}
