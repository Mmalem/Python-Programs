{
 "cells": [
  {
   "cell_type": "markdown",
   "metadata": {},
   "source": [
    "# LAB 3"
   ]
  },
  {
   "cell_type": "raw",
   "metadata": {},
   "source": [
    "1.\tCreate a Python class named Circle constructed by a radius and two methods\n",
    "    which will compute the area and the perimeter of a circle. "
   ]
  },
  {
   "cell_type": "code",
   "execution_count": 5,
   "metadata": {},
   "outputs": [
    {
     "name": "stdout",
     "output_type": "stream",
     "text": [
      "Enter the radius of the circle:7\n",
      "Area of the circle: 153.94\n",
      "Circumference of the circle: 43.98\n"
     ]
    }
   ],
   "source": [
    "from math import pi\n",
    "class Circle:\n",
    "    \n",
    "    def __init__(self, radius):\n",
    "        self.radius = radius\n",
    "    \n",
    "    def area(self):\n",
    "        return pi * (self.radius ** 2)\n",
    "    \n",
    "    def circumference(self):\n",
    "        return 2 * pi * self.radius\n",
    "\n",
    "radius = int(input(\"Enter the radius of the circle:\"))\n",
    "circle = Circle(radius)\n",
    "\n",
    "print(\"Area of the circle: {:.2F}\".format(circle.area()))\n",
    "print(\"Circumference of the circle: {:.2F}\".format(circle.circumference()))"
   ]
  },
  {
   "cell_type": "code",
   "execution_count": null,
   "metadata": {},
   "outputs": [],
   "source": []
  },
  {
   "cell_type": "raw",
   "metadata": {},
   "source": [
    "2.\tCreate a Python class named Rectangle constructed by a length and width and a method which will compute \n",
    "    the area of a rectangle."
   ]
  },
  {
   "cell_type": "code",
   "execution_count": 13,
   "metadata": {},
   "outputs": [
    {
     "name": "stdout",
     "output_type": "stream",
     "text": [
      "Enter the length:10\n",
      "Enter the width:5\n"
     ]
    },
    {
     "data": {
      "text/plain": [
       "50"
      ]
     },
     "execution_count": 13,
     "metadata": {},
     "output_type": "execute_result"
    }
   ],
   "source": [
    "class Rectangle:\n",
    "    def __init__(self, length, width):\n",
    "        self.length = length\n",
    "        self.width = width\n",
    "    \n",
    "    def area(self):\n",
    "        return self.length * self.width\n",
    "    \n",
    "length = int(input(\"Enter the length:\"))\n",
    "width = int(input(\"Enter the width:\"))\n",
    "\n",
    "rect = Rectangle(length, width)\n",
    "rect.area()"
   ]
  },
  {
   "cell_type": "code",
   "execution_count": null,
   "metadata": {},
   "outputs": [],
   "source": []
  },
  {
   "cell_type": "raw",
   "metadata": {},
   "source": [
    "3. Write a program to implement constructor."
   ]
  },
  {
   "cell_type": "code",
   "execution_count": 16,
   "metadata": {},
   "outputs": [
    {
     "name": "stdout",
     "output_type": "stream",
     "text": [
      "Hello. Jack here, I am 20 years old.\n"
     ]
    }
   ],
   "source": [
    "class Person:\n",
    "    \"\"\"this is a Person class\"\"\"\n",
    "    def __init__(self, name, age):\n",
    "        self.name = name\n",
    "        self.age = age\n",
    "        \n",
    "    def greet(self):\n",
    "        print(\"Hello. {} here, I am {} years old.\".format(self.name, self.age))\n",
    "        \n",
    "p = Person('Jack', 20)\n",
    "p.greet()"
   ]
  },
  {
   "cell_type": "code",
   "execution_count": null,
   "metadata": {},
   "outputs": [],
   "source": []
  },
  {
   "cell_type": "raw",
   "metadata": {},
   "source": [
    "4.\tWrite a program to implement multiple inheritance."
   ]
  },
  {
   "cell_type": "code",
   "execution_count": 19,
   "metadata": {},
   "outputs": [
    {
     "name": "stdout",
     "output_type": "stream",
     "text": [
      "Name:  Jack\n",
      "Age:  25\n",
      "Company:  XYZ\n",
      "Location:  Pune\n",
      "Salary:  25000\n"
     ]
    }
   ],
   "source": [
    "class Person:\n",
    "    def __init__(self, name, age):\n",
    "        self.name = name\n",
    "        self.age = age\n",
    "\n",
    "class Company:\n",
    "    def __init__(self, companyName, location):\n",
    "        self.companyName = companyName\n",
    "        self.location = location\n",
    "\n",
    "class Employee(Person, Company):\n",
    "    def __init__(self, name, age, company, companyLoc, salary):\n",
    "        self.salary = salary\n",
    "        Person.__init__(self,name, age)\n",
    "        Company.__init__(self, company, companyLoc)\n",
    "    \n",
    "    def getInfo(self):\n",
    "        print(\"Name: \", self.name)\n",
    "        print(\"Age: \", self.age)\n",
    "        print(\"Company: \", self.companyName)\n",
    "        print(\"Location: \", self.location)\n",
    "        print(\"Salary: \", self.salary)\n",
    "\n",
    "jack = Employee(\"Jack\", \"25\", \"XYZ\", \"Pune\", 25000)\n",
    "jack.getInfo()"
   ]
  },
  {
   "cell_type": "code",
   "execution_count": null,
   "metadata": {},
   "outputs": [],
   "source": []
  },
  {
   "cell_type": "raw",
   "metadata": {},
   "source": [
    "5.\tWrite a program to implement polymorphism."
   ]
  },
  {
   "cell_type": "code",
   "execution_count": 23,
   "metadata": {
    "scrolled": true
   },
   "outputs": [
    {
     "name": "stdout",
     "output_type": "stream",
     "text": [
      "A shape is created\n",
      "Area:  50\n",
      "Perimeter:  30\n"
     ]
    }
   ],
   "source": [
    "class Shape():\n",
    "    def __init__(self):\n",
    "        print(\"A shape is created\")\n",
    "    \n",
    "    def area(self):\n",
    "        pass\n",
    "    \n",
    "    def perimeter(self):\n",
    "        pass\n",
    "        \n",
    "class Rectangle(Shape):\n",
    "    def __init__(self, length, width):\n",
    "        super().__init__()\n",
    "        self.length = length\n",
    "        self.width = width\n",
    "    \n",
    "    def area(self):\n",
    "        return self.length * self.width\n",
    "    \n",
    "    def perimeter(self):\n",
    "        return 2 * (self.length + self.width)\n",
    "    \n",
    "rect = Rectangle(5,10)\n",
    "print(\"Area: \", rect.area())\n",
    "print(\"Perimeter: \", rect.perimeter())"
   ]
  },
  {
   "cell_type": "code",
   "execution_count": null,
   "metadata": {},
   "outputs": [],
   "source": []
  },
  {
   "cell_type": "raw",
   "metadata": {},
   "source": [
    "6.\tWrite a program to implement method overriding."
   ]
  },
  {
   "cell_type": "code",
   "execution_count": 20,
   "metadata": {},
   "outputs": [
    {
     "name": "stdout",
     "output_type": "stream",
     "text": [
      "Area of Circle: 615.75\n",
      "Area of Square  25\n"
     ]
    }
   ],
   "source": [
    "from math import pi\n",
    "class Shape():\n",
    "    def __init__(self):\n",
    "        print(\"A shape is created\")\n",
    "    \n",
    "    def area(self):\n",
    "        pass\n",
    "    \n",
    "    \n",
    "class Circle(Shape):\n",
    "    \n",
    "    def __init__(self, radius):\n",
    "        self.radius = radius\n",
    "    \n",
    "    def area(self):\n",
    "        return pi * (self.radius ** 2)\n",
    "    \n",
    "    \n",
    "class Square(Shape):\n",
    "    def __init__(self, side):\n",
    "        self.side= side\n",
    "    \n",
    "    def area(self):\n",
    "        return self.side ** 2 \n",
    "    \n",
    "circle = Circle(14)\n",
    "square = Square(5)\n",
    "\n",
    "print(\"Area of Circle: {:.2f}\".format(circle.area()))\n",
    "print(\"Area of Square \", square.area())"
   ]
  },
  {
   "cell_type": "code",
   "execution_count": null,
   "metadata": {},
   "outputs": [],
   "source": []
  },
  {
   "cell_type": "raw",
   "metadata": {},
   "source": [
    "7.\tWrite a program to implement composition"
   ]
  },
  {
   "cell_type": "code",
   "execution_count": 41,
   "metadata": {},
   "outputs": [
    {
     "data": {
      "text/plain": [
       "305000"
      ]
     },
     "execution_count": 41,
     "metadata": {},
     "output_type": "execute_result"
    }
   ],
   "source": [
    "class Salary:\n",
    "    def __init__(self, sal):\n",
    "        self.sal = sal\n",
    "    \n",
    "    def get_anual_sal(self):\n",
    "        return 12 * self.sal\n",
    "    \n",
    "class Employee:\n",
    "    def __init__(self, sal, bonus):\n",
    "        self.sal = sal\n",
    "        self.bonus = bonus\n",
    "        # if you delete the container object then all of its contents objects are also deleted.\n",
    "        self.obj_Salary = Salary(self.sal)\n",
    "        \n",
    "    def get_total(self):\n",
    "        return self.obj_Salary.get_anual_sal() + self.bonus\n",
    "\n",
    "\n",
    "emp = Employee(25000, 5000)\n",
    "emp.get_total()"
   ]
  },
  {
   "cell_type": "code",
   "execution_count": null,
   "metadata": {},
   "outputs": [],
   "source": []
  },
  {
   "cell_type": "raw",
   "metadata": {},
   "source": [
    "8.\tWrite a program to implement aggregation"
   ]
  },
  {
   "cell_type": "code",
   "execution_count": 42,
   "metadata": {},
   "outputs": [
    {
     "data": {
      "text/plain": [
       "305000"
      ]
     },
     "execution_count": 42,
     "metadata": {},
     "output_type": "execute_result"
    }
   ],
   "source": [
    "class Salary:\n",
    "    def __init__(self, sal):\n",
    "        self.sal = sal\n",
    "    \n",
    "    def get_anual_sal(self):\n",
    "        return 12 * self.sal\n",
    "    \n",
    "class Employee:\n",
    "    def __init__(self, sal, bonus):\n",
    "        self.sal = sal\n",
    "        self.bonus = bonus\n",
    "\n",
    "        \n",
    "    def get_total(self):\n",
    "        return self.sal.get_anual_sal() + self.bonus\n",
    "\n",
    "#If you delete the container object contents objects can live without container object.\n",
    "sal = Salary(25000)\n",
    "emp = Employee(sal, 5000)\n",
    "emp.get_total()"
   ]
  },
  {
   "cell_type": "code",
   "execution_count": null,
   "metadata": {},
   "outputs": [],
   "source": []
  },
  {
   "cell_type": "raw",
   "metadata": {},
   "source": [
    "9.\tWrite a program to implement abstraction."
   ]
  },
  {
   "cell_type": "code",
   "execution_count": 57,
   "metadata": {},
   "outputs": [
    {
     "name": "stdout",
     "output_type": "stream",
     "text": [
      "I have 3 sides\n",
      "Can't instantiate abstract class Pentagon with abstract methods noofsides\n"
     ]
    }
   ],
   "source": [
    "from abc import ABC, abstractmethod\n",
    " \n",
    "class Polygon(ABC):\n",
    " \n",
    "    @abstractmethod\n",
    "    def noofsides(self):\n",
    "        pass\n",
    "    \n",
    "\n",
    "class Triangle(Polygon):\n",
    " \n",
    "    def noofsides(self):\n",
    "        print(\"I have 3 sides\")\n",
    "        \n",
    "        \n",
    "class Pentagon(Polygon):\n",
    " \n",
    "    def sides(self):\n",
    "        print(\"I have 5 sides\")\n",
    "        \n",
    "obj1 = Triangle()\n",
    "obj1.noofsides()\n",
    "\n",
    "try:\n",
    "    obj2 = Pentagon()\n",
    "    obj2.sides()\n",
    "except Exception as err:\n",
    "    print(err)"
   ]
  },
  {
   "cell_type": "code",
   "execution_count": null,
   "metadata": {},
   "outputs": [],
   "source": []
  },
  {
   "cell_type": "raw",
   "metadata": {},
   "source": [
    "10.\tWrite a program to implement to show the use of access specifier."
   ]
  },
  {
   "cell_type": "code",
   "execution_count": 1,
   "metadata": {},
   "outputs": [
    {
     "name": "stdout",
     "output_type": "stream",
     "text": [
      "Jack\n",
      "M\n",
      "'Person' object has no attribute '__age'\n",
      "22\n",
      "Pune\n"
     ]
    }
   ],
   "source": [
    "class Person():\n",
    "    def __init__(self, name, age, address, gender):\n",
    "        self.name = name\n",
    "        self.__age = age\n",
    "        self.__address = address\n",
    "        self._gender = gender\n",
    "    \n",
    "    def getAge(self):\n",
    "        return self.__age\n",
    "    \n",
    "    def getAddress(self):\n",
    "        return self.__address\n",
    "        \n",
    "p = Person('Jack', 22, 'Pune', 'M')\n",
    "print(p.name)\n",
    "try:\n",
    "    print(p._gender)\n",
    "    print(p.__age)\n",
    "    print(p.__address)\n",
    "    \n",
    "except Exception as err:\n",
    "    print(err)\n",
    "    \n",
    "finally:\n",
    "    print(p.getAge())\n",
    "    print(p.getAddress())"
   ]
  },
  {
   "cell_type": "code",
   "execution_count": null,
   "metadata": {},
   "outputs": [],
   "source": []
  }
 ],
 "metadata": {
  "kernelspec": {
   "display_name": "Python 3",
   "language": "python",
   "name": "python3"
  },
  "language_info": {
   "codemirror_mode": {
    "name": "ipython",
    "version": 3
   },
   "file_extension": ".py",
   "mimetype": "text/x-python",
   "name": "python",
   "nbconvert_exporter": "python",
   "pygments_lexer": "ipython3",
   "version": "3.7.6"
  }
 },
 "nbformat": 4,
 "nbformat_minor": 4
}
