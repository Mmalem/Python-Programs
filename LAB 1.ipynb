{
 "cells": [
  {
   "cell_type": "markdown",
   "metadata": {},
   "source": [
    "# LAB Assignment 1"
   ]
  },
  {
   "cell_type": "code",
   "execution_count": 9,
   "metadata": {},
   "outputs": [],
   "source": [
    "# initializing List elements \n",
    "def getList(length):\n",
    "    my_list = list()\n",
    "    for i in range(length):\n",
    "        my_list.append(int(input(\"Enter element: \")))\n",
    "    \n",
    "    return my_list"
   ]
  },
  {
   "cell_type": "code",
   "execution_count": 2,
   "metadata": {},
   "outputs": [
    {
     "name": "stdout",
     "output_type": "stream",
     "text": [
      "Enter the length of the List: 2\n",
      "Enter element: 3\n",
      "Enter element: 3\n",
      "Sum of items of the list:  6\n"
     ]
    }
   ],
   "source": [
    "#1.\tWrite a program to sum all the items in a list.\n",
    "\n",
    "def getTotal(my_list):\n",
    "    total = 0\n",
    "    for item in my_list:\n",
    "        total += item\n",
    "        \n",
    "    return total\n",
    "\n",
    "# get the length of the List\n",
    "length = int(input(\"Enter the length of the List: \"))\n",
    "my_list = getList(length)\n",
    "\n",
    "print(\"Sum of items of the list: \",getTotal(my_list))"
   ]
  },
  {
   "cell_type": "code",
   "execution_count": 43,
   "metadata": {},
   "outputs": [
    {
     "name": "stdout",
     "output_type": "stream",
     "text": [
      "Enter the length of the List: 5\n",
      "Enter element: 76\n",
      "Enter element: 23\n",
      "Enter element: 65\n",
      "Enter element: 12\n",
      "Enter element: 45\n",
      "Maximum item in the list is:  76\n"
     ]
    }
   ],
   "source": [
    "#2.\tWrite a program to get the largest number from a list.\n",
    "\n",
    "def getLargest(my_list):\n",
    "    largest = 0\n",
    "    for item in my_list:\n",
    "        if item > largest:\n",
    "            largest = item\n",
    "    return largest\n",
    "\n",
    "length = int(input(\"Enter the length of the List: \"))\n",
    "my_list = getList(length)\n",
    "\n",
    "print(\"Maximum item in the list is: \", getLargest(my_list))"
   ]
  },
  {
   "cell_type": "code",
   "execution_count": 3,
   "metadata": {},
   "outputs": [
    {
     "name": "stdout",
     "output_type": "stream",
     "text": [
      "Enter the length of the List: 4\n",
      "Enter element: 22\n",
      "Enter element: 33\n",
      "Enter element: 44\n",
      "Enter element: 22\n",
      "New list after removing the duplicate:  [22, 33, 44]\n"
     ]
    }
   ],
   "source": [
    "#3.\tWrite a program to remove duplicates from a list.\n",
    "def removeDuplicate(my_list):\n",
    "    unique_list = []\n",
    "    for item in my_list:\n",
    "        if item not in unique_list:\n",
    "            unique_list.append(item)\n",
    "    return unique_list\n",
    "\n",
    "length = int(input(\"Enter the length of the List: \"))\n",
    "my_list = getList(length)\n",
    "\n",
    "print(\"New list after removing the duplicate: \", removeDuplicate(my_list))"
   ]
  },
  {
   "cell_type": "code",
   "execution_count": 4,
   "metadata": {},
   "outputs": [
    {
     "name": "stdout",
     "output_type": "stream",
     "text": [
      "Enter a number: 123456\n",
      "The reverse of 123456 is: 654321\n"
     ]
    }
   ],
   "source": [
    "#4.\tWrite a program for displaying reversal of a number.\n",
    "def reverse(num):\n",
    "    rev = 0\n",
    "    while(num):\n",
    "        rem = num % 10\n",
    "        rev = rev * 10 + rem\n",
    "        num //= 10\n",
    "    return rev\n",
    "\n",
    "num = int(input(\"Enter a number: \"))\n",
    "print(\"The reverse of {} is: {}\".format(num, reverse(num)))"
   ]
  },
  {
   "cell_type": "code",
   "execution_count": 5,
   "metadata": {},
   "outputs": [
    {
     "name": "stdout",
     "output_type": "stream",
     "text": [
      "Enter first number: 23\n",
      "Enter second number: 45\n",
      "Enter third number: 12\n",
      "45  is the biggest.\n"
     ]
    }
   ],
   "source": [
    "#5.\tWrite a program for finding biggest number among 3 numbers.\n",
    "def biggestOfThree(num1, num2, num3):\n",
    "    if num1 > num2:\n",
    "        if num1 > num3:\n",
    "            print(num1, \" is the biggest.\")\n",
    "        else:\n",
    "            print(num3, \" is the biggest.\")\n",
    "    else:\n",
    "        print(num2, \" is the biggest.\")\n",
    "\n",
    "num1= int(input(\"Enter first number: \"))\n",
    "num2= int(input(\"Enter second number: \"))\n",
    "num3= int(input(\"Enter third number: \"))\n",
    "\n",
    "biggestOfThree(num1,num2,num3)"
   ]
  },
  {
   "cell_type": "code",
   "execution_count": 6,
   "metadata": {},
   "outputs": [
    {
     "name": "stdout",
     "output_type": "stream",
     "text": [
      "Enter your age: 15\n",
      "Sorry! You are not eligible\n"
     ]
    }
   ],
   "source": [
    "#6.\tWrite a program to read person’s age from keyboard and display whether he is eligible for voting or not.\n",
    "def check_eligible(age):\n",
    "    if age < 18:\n",
    "        print('Sorry! You are not eligible')\n",
    "    else:\n",
    "        print('Yes! You are eligible for voting')\n",
    "\n",
    "check_eligible(int(input(\"Enter your age: \")))"
   ]
  },
  {
   "cell_type": "code",
   "execution_count": 2,
   "metadata": {},
   "outputs": [
    {
     "name": "stdout",
     "output_type": "stream",
     "text": [
      "Converts the first character to upper case:  Malem naganba mayeng bam meitei 4\n",
      "Converts a string into upper case: MALEM NAGANBA MAYENG BAM MEITEI 4\n",
      "Converts a string into upper case:  malem naganba mayeng bam meitei 4\n",
      "Returns the number of times a specified value occurs in a string:  4\n",
      "Returns true if the string ends with the specified value:  False\n",
      "Searches the string for a specified value and returns the position of where it was found:  8\n",
      "Splits the string at the specified separator, and returns a list:  ['malem', 'naganba', 'Mayeng', 'Bam', 'meitei', '4']\n",
      "Returns True if all characters in the string are in the alphabet:  False\n",
      "Returns True if all characters in the string are digits:  True\n",
      "Returns True if all characters in the string are alphanumeric:  True\n",
      "malem naganba Mayeng Bam meitei 4\n"
     ]
    }
   ],
   "source": [
    "#7.\tWrite a program to perform various operations on string using string libraries.\n",
    "txt = 'malem naganba Mayeng Bam meitei 4' #input('Input a string: ')\n",
    "\n",
    "print('Converts the first character to upper case: ', txt.capitalize())\n",
    "print('Converts a string into upper case:', txt.upper())\n",
    "print('Converts a string into upper case: ', txt.lower())\n",
    "print('Returns the number of times a specified value occurs in a string: ', txt.count('m'))\n",
    "print('Returns true if the string ends with the specified value: ', txt.endswith('o'))\n",
    "print('Searches the string for a specified value and returns the position of where it was found: ', txt.find('g'))\n",
    "print('Splits the string at the specified separator, and returns a list: ', txt.split())\n",
    "print('Returns True if all characters in the string are in the alphabet: ', txt.isalpha())\n",
    "print('Returns True if all characters in the string are digits: ', txt[-1].isdigit())\n",
    "print('Returns True if all characters in the string are alphanumeric: ', txt[:4].isalnum())\n",
    "print(txt)"
   ]
  },
  {
   "cell_type": "code",
   "execution_count": 41,
   "metadata": {},
   "outputs": [
    {
     "name": "stdout",
     "output_type": "stream",
     "text": [
      "Input some text: Mayengbam Malembganba Meitei 411048 Pune\n",
      "Total number of alphabet:  30\n",
      "Total number of vowel:  13\n",
      "Total number of digit:  6\n",
      "Total number of blank space:  4\n"
     ]
    }
   ],
   "source": [
    "#8.\tWrite a program to accept line of text and find the number of characters, number of vowels and number of blank spaces in it.\n",
    "txt = input('Input some text: ')\n",
    "alpha_count = vowel_count = space_count = digit_count = 0\n",
    "vowels = 'aeiouAEIOU'\n",
    "\n",
    "for char in txt:\n",
    "    if char.isalpha():\n",
    "        alpha_count += 1\n",
    "    if char in vowels:\n",
    "        vowel_count += 1\n",
    "    if char.isdigit():\n",
    "        digit_count += 1\n",
    "    if char == ' ':\n",
    "        space_count += 1\n",
    "\n",
    "print('Total number of alphabet: ', alpha_count)\n",
    "print('Total number of vowel: ', vowel_count)\n",
    "print('Total number of digit: ',  digit_count)\n",
    "print('Total number of blank space: ', space_count)    "
   ]
  },
  {
   "cell_type": "code",
   "execution_count": null,
   "metadata": {},
   "outputs": [],
   "source": []
  }
 ],
 "metadata": {
  "kernelspec": {
   "display_name": "Python 3",
   "language": "python",
   "name": "python3"
  },
  "language_info": {
   "codemirror_mode": {
    "name": "ipython",
    "version": 3
   },
   "file_extension": ".py",
   "mimetype": "text/x-python",
   "name": "python",
   "nbconvert_exporter": "python",
   "pygments_lexer": "ipython3",
   "version": "3.7.6"
  }
 },
 "nbformat": 4,
 "nbformat_minor": 4
}
